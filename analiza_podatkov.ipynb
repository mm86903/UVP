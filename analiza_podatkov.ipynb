{
 "cells": [
  {
   "cell_type": "markdown",
   "id": "0db94c82",
   "metadata": {},
   "source": [
    "# Projektna naloga\n",
    "## Analiza podatkov iz csv datoteke\n",
    "Analiziramo datoteko Podatki.csv, pridobljeno s pomočjo main.py."
   ]
  },
  {
   "cell_type": "code",
   "execution_count": 126,
   "id": "3ae1e949",
   "metadata": {},
   "outputs": [],
   "source": [
    "import pandas as pd                                                                           #za delo s podatki\n",
    "import matplotlib.pyplot as plt                                                               #za risanje\n",
    "from IPython.display import HTML                                                              #za lepše barve\n",
    "from langdetect import detect\n",
    "\n",
    "\n",
    "pd.set_option(\"display.max_rows\", 20)\n",
    "%matplotlib inline\n",
    "tabela = pd.read_csv(\"Podatki.csv\", index_col=\"IME SKLADBE\")\n"
   ]
  },
  {
   "cell_type": "code",
   "execution_count": 127,
   "id": "ae1b9681",
   "metadata": {},
   "outputs": [
    {
     "data": {
      "text/html": [
       "<div>\n",
       "<style scoped>\n",
       "    .dataframe tbody tr th:only-of-type {\n",
       "        vertical-align: middle;\n",
       "    }\n",
       "\n",
       "    .dataframe tbody tr th {\n",
       "        vertical-align: top;\n",
       "    }\n",
       "\n",
       "    .dataframe thead th {\n",
       "        text-align: right;\n",
       "    }\n",
       "</style>\n",
       "<table border=\"1\" class=\"dataframe\">\n",
       "  <thead>\n",
       "    <tr style=\"text-align: right;\">\n",
       "      <th></th>\n",
       "      <th>Instrumenti</th>\n",
       "      <th>Stil</th>\n",
       "      <th>Opus</th>\n",
       "      <th>Datum kompozicije</th>\n",
       "      <th>Vir</th>\n",
       "      <th>Avtorske pravice</th>\n",
       "      <th>Zadnja posodobitev</th>\n",
       "      <th>Glasbeni ID</th>\n",
       "      <th>Typeset</th>\n",
       "    </tr>\n",
       "    <tr>\n",
       "      <th>IME SKLADBE</th>\n",
       "      <th></th>\n",
       "      <th></th>\n",
       "      <th></th>\n",
       "      <th></th>\n",
       "      <th></th>\n",
       "      <th></th>\n",
       "      <th></th>\n",
       "      <th></th>\n",
       "      <th></th>\n",
       "    </tr>\n",
       "  </thead>\n",
       "  <tbody>\n",
       "    <tr>\n",
       "      <th>Vocalise № 1</th>\n",
       "      <td>Voice, Piano</td>\n",
       "      <td>Romantic</td>\n",
       "      <td>Not known</td>\n",
       "      <td>Not known</td>\n",
       "      <td>Practical Singing Tutor for All Voices, G.Schi...</td>\n",
       "      <td>Public Domain</td>\n",
       "      <td>2019/Jul/24</td>\n",
       "      <td>Mutopia-2019/07/24-2247</td>\n",
       "      <td>LilyPond, version 2.18.2</td>\n",
       "    </tr>\n",
       "    <tr>\n",
       "      <th>When the Swallows Homeward Fly (Agathe)</th>\n",
       "      <td>Voice and Piano</td>\n",
       "      <td>Song</td>\n",
       "      <td>NaN</td>\n",
       "      <td>c. 1846</td>\n",
       "      <td>Not known</td>\n",
       "      <td>Public Domain</td>\n",
       "      <td>2014/Nov/13</td>\n",
       "      <td>Mutopia-2014/11/13-439</td>\n",
       "      <td>LilyPond, version 2.18.2</td>\n",
       "    </tr>\n",
       "    <tr>\n",
       "      <th>Giselle - Pas de deux (1er Acte)</th>\n",
       "      <td>Piano</td>\n",
       "      <td>Classical</td>\n",
       "      <td>Not known</td>\n",
       "      <td>Not known</td>\n",
       "      <td>New arrangement</td>\n",
       "      <td>Public Domain</td>\n",
       "      <td>2006/Dec/22</td>\n",
       "      <td>Mutopia-2006/12/22-897</td>\n",
       "      <td>LilyPond, version 2.10.4</td>\n",
       "    </tr>\n",
       "    <tr>\n",
       "      <th>Minuit Chrétiens</th>\n",
       "      <td>Voice and Piano</td>\n",
       "      <td>Hymn</td>\n",
       "      <td>Not known</td>\n",
       "      <td>Not known</td>\n",
       "      <td>Ed. Léon Grus</td>\n",
       "      <td>Public Domain</td>\n",
       "      <td>2005/Dec/09</td>\n",
       "      <td>Mutopia-2005/12/09-640</td>\n",
       "      <td>LilyPond, version 2.6.5</td>\n",
       "    </tr>\n",
       "    <tr>\n",
       "      <th>The Blue Alsatian Mountains</th>\n",
       "      <td>Voice and Piano</td>\n",
       "      <td>Song</td>\n",
       "      <td>Not known</td>\n",
       "      <td>Not known</td>\n",
       "      <td>Not known</td>\n",
       "      <td>Public Domain</td>\n",
       "      <td>2014/Nov/13</td>\n",
       "      <td>Mutopia-2014/11/13-440</td>\n",
       "      <td>LilyPond, version 2.18.2</td>\n",
       "    </tr>\n",
       "    <tr>\n",
       "      <th>...</th>\n",
       "      <td>...</td>\n",
       "      <td>...</td>\n",
       "      <td>...</td>\n",
       "      <td>...</td>\n",
       "      <td>...</td>\n",
       "      <td>...</td>\n",
       "      <td>...</td>\n",
       "      <td>...</td>\n",
       "      <td>...</td>\n",
       "    </tr>\n",
       "    <tr>\n",
       "      <th>La Traviata - N18 Scena finale</th>\n",
       "      <td>Piano</td>\n",
       "      <td>Romantic</td>\n",
       "      <td>Not known</td>\n",
       "      <td>Not known</td>\n",
       "      <td>Calcografía de la 'Nueva Biblioteca Musical Ec...</td>\n",
       "      <td>Public Domain</td>\n",
       "      <td>2008/Aug/12</td>\n",
       "      <td>Mutopia-2008/08/12-1519</td>\n",
       "      <td>LilyPond, version 2.10.33</td>\n",
       "    </tr>\n",
       "    <tr>\n",
       "      <th>La Traviata - Preludio</th>\n",
       "      <td>Piano</td>\n",
       "      <td>Romantic</td>\n",
       "      <td>Not known</td>\n",
       "      <td>Not known</td>\n",
       "      <td>Calcografía de la 'Nueva Biblioteca Musical Ec...</td>\n",
       "      <td>Public Domain</td>\n",
       "      <td>2008/Jan/13</td>\n",
       "      <td>Mutopia-2008/01/13-1213</td>\n",
       "      <td>LilyPond, version 2.10.33</td>\n",
       "    </tr>\n",
       "    <tr>\n",
       "      <th>Rondo</th>\n",
       "      <td>Piano</td>\n",
       "      <td>Classical</td>\n",
       "      <td>Opus 42, No. 1, Meter</td>\n",
       "      <td>18th Century</td>\n",
       "      <td>Unknown, late 19th Century</td>\n",
       "      <td>Public Domain</td>\n",
       "      <td>2013/Jan/13</td>\n",
       "      <td>Mutopia-2013/01/13-192</td>\n",
       "      <td>LilyPond, version 2.16.1</td>\n",
       "    </tr>\n",
       "    <tr>\n",
       "      <th>Dymuniad</th>\n",
       "      <td>Quartet and Piano</td>\n",
       "      <td>Hymn</td>\n",
       "      <td>Not known</td>\n",
       "      <td>1835</td>\n",
       "      <td>‘Y Drysorfa,’ Ionawr, 1835, o dan yr enw ‘Deis...</td>\n",
       "      <td>Creative Commons Attribution-ShareAlike 3.0</td>\n",
       "      <td>2007/Sep/08</td>\n",
       "      <td>Mutopia-2007/09/08-1032</td>\n",
       "      <td>LilyPond, version 2.10.29</td>\n",
       "    </tr>\n",
       "    <tr>\n",
       "      <th>Les Lanciers</th>\n",
       "      <td>Piano</td>\n",
       "      <td>Popular / Dance</td>\n",
       "      <td>Not known</td>\n",
       "      <td>c1860</td>\n",
       "      <td>Original Sheet Music</td>\n",
       "      <td>Public Domain</td>\n",
       "      <td>2006/Feb/25</td>\n",
       "      <td>Mutopia-2006/02/25-681</td>\n",
       "      <td>LilyPond, version 2.6.4.3</td>\n",
       "    </tr>\n",
       "  </tbody>\n",
       "</table>\n",
       "<p>788 rows × 9 columns</p>\n",
       "</div>"
      ],
      "text/plain": [
       "                                               Instrumenti             Stil  \\\n",
       "IME SKLADBE                                                                   \n",
       "Vocalise № 1                                  Voice, Piano         Romantic   \n",
       "When the Swallows Homeward Fly (Agathe)    Voice and Piano             Song   \n",
       "Giselle - Pas de deux (1er Acte)                     Piano        Classical   \n",
       "Minuit Chrétiens                           Voice and Piano             Hymn   \n",
       "The Blue Alsatian Mountains                Voice and Piano             Song   \n",
       "...                                                    ...              ...   \n",
       "La Traviata - N18 Scena finale                       Piano         Romantic   \n",
       "La Traviata - Preludio                               Piano         Romantic   \n",
       "Rondo                                                Piano        Classical   \n",
       "Dymuniad                                 Quartet and Piano             Hymn   \n",
       "Les Lanciers                                         Piano  Popular / Dance   \n",
       "\n",
       "                                                          Opus  \\\n",
       "IME SKLADBE                                                      \n",
       "Vocalise № 1                                         Not known   \n",
       "When the Swallows Homeward Fly (Agathe)                    NaN   \n",
       "Giselle - Pas de deux (1er Acte)                     Not known   \n",
       "Minuit Chrétiens                                     Not known   \n",
       "The Blue Alsatian Mountains                          Not known   \n",
       "...                                                        ...   \n",
       "La Traviata - N18 Scena finale                       Not known   \n",
       "La Traviata - Preludio                               Not known   \n",
       "Rondo                                    Opus 42, No. 1, Meter   \n",
       "Dymuniad                                             Not known   \n",
       "Les Lanciers                                         Not known   \n",
       "\n",
       "                                        Datum kompozicije  \\\n",
       "IME SKLADBE                                                 \n",
       "Vocalise № 1                                    Not known   \n",
       "When the Swallows Homeward Fly (Agathe)           c. 1846   \n",
       "Giselle - Pas de deux (1er Acte)                Not known   \n",
       "Minuit Chrétiens                                Not known   \n",
       "The Blue Alsatian Mountains                     Not known   \n",
       "...                                                   ...   \n",
       "La Traviata - N18 Scena finale                  Not known   \n",
       "La Traviata - Preludio                          Not known   \n",
       "Rondo                                        18th Century   \n",
       "Dymuniad                                             1835   \n",
       "Les Lanciers                                        c1860   \n",
       "\n",
       "                                                                                       Vir  \\\n",
       "IME SKLADBE                                                                                  \n",
       "Vocalise № 1                             Practical Singing Tutor for All Voices, G.Schi...   \n",
       "When the Swallows Homeward Fly (Agathe)                                          Not known   \n",
       "Giselle - Pas de deux (1er Acte)                                           New arrangement   \n",
       "Minuit Chrétiens                                                             Ed. Léon Grus   \n",
       "The Blue Alsatian Mountains                                                      Not known   \n",
       "...                                                                                    ...   \n",
       "La Traviata - N18 Scena finale           Calcografía de la 'Nueva Biblioteca Musical Ec...   \n",
       "La Traviata - Preludio                   Calcografía de la 'Nueva Biblioteca Musical Ec...   \n",
       "Rondo                                                           Unknown, late 19th Century   \n",
       "Dymuniad                                 ‘Y Drysorfa,’ Ionawr, 1835, o dan yr enw ‘Deis...   \n",
       "Les Lanciers                                                          Original Sheet Music   \n",
       "\n",
       "                                                                    Avtorske pravice  \\\n",
       "IME SKLADBE                                                                            \n",
       "Vocalise № 1                                                           Public Domain   \n",
       "When the Swallows Homeward Fly (Agathe)                                Public Domain   \n",
       "Giselle - Pas de deux (1er Acte)                                       Public Domain   \n",
       "Minuit Chrétiens                                                       Public Domain   \n",
       "The Blue Alsatian Mountains                                            Public Domain   \n",
       "...                                                                              ...   \n",
       "La Traviata - N18 Scena finale                                         Public Domain   \n",
       "La Traviata - Preludio                                                 Public Domain   \n",
       "Rondo                                                                  Public Domain   \n",
       "Dymuniad                                 Creative Commons Attribution-ShareAlike 3.0   \n",
       "Les Lanciers                                                           Public Domain   \n",
       "\n",
       "                                        Zadnja posodobitev  \\\n",
       "IME SKLADBE                                                  \n",
       "Vocalise № 1                                   2019/Jul/24   \n",
       "When the Swallows Homeward Fly (Agathe)        2014/Nov/13   \n",
       "Giselle - Pas de deux (1er Acte)               2006/Dec/22   \n",
       "Minuit Chrétiens                               2005/Dec/09   \n",
       "The Blue Alsatian Mountains                    2014/Nov/13   \n",
       "...                                                    ...   \n",
       "La Traviata - N18 Scena finale                 2008/Aug/12   \n",
       "La Traviata - Preludio                         2008/Jan/13   \n",
       "Rondo                                          2013/Jan/13   \n",
       "Dymuniad                                       2007/Sep/08   \n",
       "Les Lanciers                                   2006/Feb/25   \n",
       "\n",
       "                                                     Glasbeni ID  \\\n",
       "IME SKLADBE                                                        \n",
       "Vocalise № 1                             Mutopia-2019/07/24-2247   \n",
       "When the Swallows Homeward Fly (Agathe)   Mutopia-2014/11/13-439   \n",
       "Giselle - Pas de deux (1er Acte)          Mutopia-2006/12/22-897   \n",
       "Minuit Chrétiens                          Mutopia-2005/12/09-640   \n",
       "The Blue Alsatian Mountains               Mutopia-2014/11/13-440   \n",
       "...                                                          ...   \n",
       "La Traviata - N18 Scena finale           Mutopia-2008/08/12-1519   \n",
       "La Traviata - Preludio                   Mutopia-2008/01/13-1213   \n",
       "Rondo                                     Mutopia-2013/01/13-192   \n",
       "Dymuniad                                 Mutopia-2007/09/08-1032   \n",
       "Les Lanciers                              Mutopia-2006/02/25-681   \n",
       "\n",
       "                                                           Typeset  \n",
       "IME SKLADBE                                                         \n",
       "Vocalise № 1                              LilyPond, version 2.18.2  \n",
       "When the Swallows Homeward Fly (Agathe)   LilyPond, version 2.18.2  \n",
       "Giselle - Pas de deux (1er Acte)          LilyPond, version 2.10.4  \n",
       "Minuit Chrétiens                           LilyPond, version 2.6.5  \n",
       "The Blue Alsatian Mountains               LilyPond, version 2.18.2  \n",
       "...                                                            ...  \n",
       "La Traviata - N18 Scena finale           LilyPond, version 2.10.33  \n",
       "La Traviata - Preludio                   LilyPond, version 2.10.33  \n",
       "Rondo                                     LilyPond, version 2.16.1  \n",
       "Dymuniad                                 LilyPond, version 2.10.29  \n",
       "Les Lanciers                             LilyPond, version 2.6.4.3  \n",
       "\n",
       "[788 rows x 9 columns]"
      ]
     },
     "execution_count": 127,
     "metadata": {},
     "output_type": "execute_result"
    }
   ],
   "source": [
    "tabela"
   ]
  },
  {
   "cell_type": "markdown",
   "id": "1e88dee6",
   "metadata": {},
   "source": [
    "## Stil"
   ]
  },
  {
   "cell_type": "markdown",
   "id": "82aa3780",
   "metadata": {},
   "source": [
    "Že iz zgornje tabele lahko izčrpamo veliko informacij. Kateri stili pa so najpogostejši?"
   ]
  },
  {
   "cell_type": "code",
   "execution_count": 128,
   "id": "1eca8dfd",
   "metadata": {},
   "outputs": [
    {
     "data": {
      "text/plain": [
       "Stil\n",
       "Romantic           275\n",
       "Classical          177\n",
       "Baroque            165\n",
       "Folk                68\n",
       "Song                26\n",
       "Jazz                23\n",
       "Technique           20\n",
       "Modern              17\n",
       "Hymn                 6\n",
       "Popular / Dance      6\n",
       "March                4\n",
       "Renaissance          1\n",
       "Name: count, dtype: int64"
      ]
     },
     "execution_count": 128,
     "metadata": {},
     "output_type": "execute_result"
    }
   ],
   "source": [
    "pogosti_stili = tabela[\"Stil\"].value_counts()\n",
    "pogosti_stili"
   ]
  },
  {
   "cell_type": "markdown",
   "id": "f98dbd27",
   "metadata": {},
   "source": [
    "Zgoraj torej vidimo, kolikokrat se pojavi posamezen stil, najpogostejši pa je...?"
   ]
  },
  {
   "cell_type": "code",
   "execution_count": 129,
   "id": "9df0e14a",
   "metadata": {},
   "outputs": [],
   "source": [
    "najpogostejsi_stil = pogosti_stili.idxmax()"
   ]
  },
  {
   "cell_type": "code",
   "execution_count": 130,
   "id": "ad72d9ac",
   "metadata": {},
   "outputs": [
    {
     "data": {
      "text/html": [
       "<h4>Najpogostejši stil je <span style='color:gold;'>Romantic</span></h4>"
      ],
      "text/plain": [
       "<IPython.core.display.HTML object>"
      ]
     },
     "execution_count": 130,
     "metadata": {},
     "output_type": "execute_result"
    }
   ],
   "source": [
    "HTML(f\"<h4>Najpogostejši stil je <span style='color:gold;'>{najpogostejsi_stil}</span></h4>\")"
   ]
  },
  {
   "cell_type": "markdown",
   "id": "11c9ad5a",
   "metadata": {},
   "source": [
    "Predstavimo pogostost stilov še grafično."
   ]
  },
  {
   "cell_type": "code",
   "execution_count": 131,
   "id": "8335187f",
   "metadata": {},
   "outputs": [
    {
     "data": {
      "image/png": "[encoded data removed]",
      "text/plain": [
       "<Figure size 640x480 with 1 Axes>"
      ]
     },
     "metadata": {},
     "output_type": "display_data"
    }
   ],
   "source": [
    "graf = pogosti_stili.plot(kind=\"bar\", color=\"green\")\n",
    "plt.title(\"Pogostost stilov\")\n",
    "plt.xlabel(\"Stil\")\n",
    "plt.ylabel(\"Število skladb\")\n",
    "plt.xticks(rotation=45)    #rotiramo imena na x-osi, za lepšo vidljivost\n",
    "\n",
    "#Pobarvamo Romantic z zlato\n",
    "oznake = graf.get_xticklabels()\n",
    "for oznaka in oznake:\n",
    "    if oznaka.get_text() == \"Romantic\":\n",
    "        oznaka.set_color(\"gold\")\n",
    "        \n"
   ]
  },
  {
   "cell_type": "markdown",
   "id": "9f05f2a3",
   "metadata": {},
   "source": [
    "## Inštrumenti"
   ]
  },
  {
   "cell_type": "markdown",
   "id": "ce077c4d",
   "metadata": {},
   "source": [
    "Oglejmo si še pogostost inštrumentov. Pričakujemo, da bo najpogostejši klavir, saj so podatki note, napisane za igranje klavirja."
   ]
  },
  {
   "cell_type": "code",
   "execution_count": 132,
   "id": "5483f1b6",
   "metadata": {},
   "outputs": [
    {
     "data": {
      "text/plain": [
       "Instrumenti\n",
       "Piano                             461\n",
       "Harpsichord, Piano                119\n",
       "Voice and Piano                    87\n",
       "Piano Duet                         37\n",
       "Harpsichord, Piano, Clavichord     18\n",
       "                                 ... \n",
       "Choir SSAA, Piano                   1\n",
       "Voice, Horn and Piano               1\n",
       "Voice, Clarinet and Piano           1\n",
       "Trumpet, Percussion and Piano       1\n",
       "Voice (Baritone), Piano             1\n",
       "Name: count, Length: 42, dtype: int64"
      ]
     },
     "execution_count": 132,
     "metadata": {},
     "output_type": "execute_result"
    }
   ],
   "source": [
    "pogosti_instrumenti = tabela[\"Instrumenti\"].value_counts()\n",
    "pogosti_instrumenti"
   ]
  },
  {
   "cell_type": "code",
   "execution_count": 133,
   "id": "37ddfb02",
   "metadata": {},
   "outputs": [
    {
     "data": {
      "text/html": [
       "<h4>Najpogostejši inštrument je kot pričakovano <span style='color:gold;'>Piano.</span></h4>"
      ],
      "text/plain": [
       "<IPython.core.display.HTML object>"
      ]
     },
     "execution_count": 133,
     "metadata": {},
     "output_type": "execute_result"
    }
   ],
   "source": [
    "najpogostejsi_instrument = pogosti_instrumenti.idxmax()\n",
    "HTML(f\"<h4>Najpogostejši inštrument je kot pričakovano <span style='color:gold;'>{najpogostejsi_instrument}.</span></h4>\")"
   ]
  },
  {
   "cell_type": "markdown",
   "id": "d3cf0488",
   "metadata": {},
   "source": [
    "## Čas nastanka"
   ]
  },
  {
   "cell_type": "markdown",
   "id": "14a97b1e",
   "metadata": {},
   "source": [
    "Naredimo zdaj še podtabelo z datumom kompozicije in ugotovimo, v katerih letih je izšlo največ skladb."
   ]
  },
  {
   "cell_type": "code",
   "execution_count": 134,
   "id": "ad5b3616",
   "metadata": {},
   "outputs": [
    {
     "data": {
      "text/html": [
       "<div>\n",
       "<style scoped>\n",
       "    .dataframe tbody tr th:only-of-type {\n",
       "        vertical-align: middle;\n",
       "    }\n",
       "\n",
       "    .dataframe tbody tr th {\n",
       "        vertical-align: top;\n",
       "    }\n",
       "\n",
       "    .dataframe thead th {\n",
       "        text-align: right;\n",
       "    }\n",
       "</style>\n",
       "<table border=\"1\" class=\"dataframe\">\n",
       "  <thead>\n",
       "    <tr style=\"text-align: right;\">\n",
       "      <th></th>\n",
       "      <th>Datum kompozicije</th>\n",
       "    </tr>\n",
       "    <tr>\n",
       "      <th>IME SKLADBE</th>\n",
       "      <th></th>\n",
       "    </tr>\n",
       "  </thead>\n",
       "  <tbody>\n",
       "    <tr>\n",
       "      <th>Vocalise № 1</th>\n",
       "      <td>Not known</td>\n",
       "    </tr>\n",
       "    <tr>\n",
       "      <th>When the Swallows Homeward Fly (Agathe)</th>\n",
       "      <td>c. 1846</td>\n",
       "    </tr>\n",
       "    <tr>\n",
       "      <th>Giselle - Pas de deux (1er Acte)</th>\n",
       "      <td>Not known</td>\n",
       "    </tr>\n",
       "    <tr>\n",
       "      <th>Minuit Chrétiens</th>\n",
       "      <td>Not known</td>\n",
       "    </tr>\n",
       "    <tr>\n",
       "      <th>The Blue Alsatian Mountains</th>\n",
       "      <td>Not known</td>\n",
       "    </tr>\n",
       "    <tr>\n",
       "      <th>...</th>\n",
       "      <td>...</td>\n",
       "    </tr>\n",
       "    <tr>\n",
       "      <th>La Traviata - N18 Scena finale</th>\n",
       "      <td>Not known</td>\n",
       "    </tr>\n",
       "    <tr>\n",
       "      <th>La Traviata - Preludio</th>\n",
       "      <td>Not known</td>\n",
       "    </tr>\n",
       "    <tr>\n",
       "      <th>Rondo</th>\n",
       "      <td>18th Century</td>\n",
       "    </tr>\n",
       "    <tr>\n",
       "      <th>Dymuniad</th>\n",
       "      <td>1835</td>\n",
       "    </tr>\n",
       "    <tr>\n",
       "      <th>Les Lanciers</th>\n",
       "      <td>c1860</td>\n",
       "    </tr>\n",
       "  </tbody>\n",
       "</table>\n",
       "<p>788 rows × 1 columns</p>\n",
       "</div>"
      ],
      "text/plain": [
       "                                        Datum kompozicije\n",
       "IME SKLADBE                                              \n",
       "Vocalise № 1                                    Not known\n",
       "When the Swallows Homeward Fly (Agathe)           c. 1846\n",
       "Giselle - Pas de deux (1er Acte)                Not known\n",
       "Minuit Chrétiens                                Not known\n",
       "The Blue Alsatian Mountains                     Not known\n",
       "...                                                   ...\n",
       "La Traviata - N18 Scena finale                  Not known\n",
       "La Traviata - Preludio                          Not known\n",
       "Rondo                                        18th Century\n",
       "Dymuniad                                             1835\n",
       "Les Lanciers                                        c1860\n",
       "\n",
       "[788 rows x 1 columns]"
      ]
     },
     "execution_count": 134,
     "metadata": {},
     "output_type": "execute_result"
    }
   ],
   "source": [
    "podtabela = tabela[[\"Datum kompozicije\"]].copy()            #damo copy!!!, ker ne moremo spreminjati dejanske tabele--> v nadaljevanju\n",
    "podtabela"
   ]
  },
  {
   "cell_type": "code",
   "execution_count": 135,
   "id": "ea6620b7",
   "metadata": {},
   "outputs": [
    {
     "name": "stderr",
     "output_type": "stream",
     "text": [
      "C:\\Users\\Marija\\AppData\\Local\\Temp\\ipykernel_4832\\2129590517.py:11: SettingWithCopyWarning: \n",
      "A value is trying to be set on a copy of a slice from a DataFrame.\n",
      "Try using .loc[row_indexer,col_indexer] = value instead\n",
      "\n",
      "See the caveats in the documentation: https://pandas.pydata.org/pandas-docs/stable/user_guide/indexing.html#returning-a-view-versus-a-copy\n",
      "  podtabela[\"Obdobje\"] = pd.cut(podtabela[\"Datum kompozicije\"], bins=leta, labels=oznake)\n"
     ]
    },
    {
     "data": {
      "text/html": [
       "<div>\n",
       "<style scoped>\n",
       "    .dataframe tbody tr th:only-of-type {\n",
       "        vertical-align: middle;\n",
       "    }\n",
       "\n",
       "    .dataframe tbody tr th {\n",
       "        vertical-align: top;\n",
       "    }\n",
       "\n",
       "    .dataframe thead th {\n",
       "        text-align: right;\n",
       "    }\n",
       "</style>\n",
       "<table border=\"1\" class=\"dataframe\">\n",
       "  <thead>\n",
       "    <tr style=\"text-align: right;\">\n",
       "      <th></th>\n",
       "      <th>Datum kompozicije</th>\n",
       "      <th>Obdobje</th>\n",
       "    </tr>\n",
       "    <tr>\n",
       "      <th>IME SKLADBE</th>\n",
       "      <th></th>\n",
       "      <th></th>\n",
       "    </tr>\n",
       "  </thead>\n",
       "  <tbody>\n",
       "    <tr>\n",
       "      <th>Rumores de la Caleta</th>\n",
       "      <td>1887.0</td>\n",
       "      <td>1850-1900</td>\n",
       "    </tr>\n",
       "    <tr>\n",
       "      <th>Prélude</th>\n",
       "      <td>1846.0</td>\n",
       "      <td>1800-1850</td>\n",
       "    </tr>\n",
       "    <tr>\n",
       "      <th>Prélude Nr. 2</th>\n",
       "      <td>1846.0</td>\n",
       "      <td>1800-1850</td>\n",
       "    </tr>\n",
       "    <tr>\n",
       "      <th>Toccatina</th>\n",
       "      <td>1872.0</td>\n",
       "      <td>1850-1900</td>\n",
       "    </tr>\n",
       "    <tr>\n",
       "      <th>Ermuntre dich, mein schwacher Geist</th>\n",
       "      <td>1736.0</td>\n",
       "      <td>1700-1800</td>\n",
       "    </tr>\n",
       "    <tr>\n",
       "      <th>...</th>\n",
       "      <td>...</td>\n",
       "      <td>...</td>\n",
       "    </tr>\n",
       "    <tr>\n",
       "      <th>Oats and Beans</th>\n",
       "      <td>1893.0</td>\n",
       "      <td>1850-1900</td>\n",
       "    </tr>\n",
       "    <tr>\n",
       "      <th>The Water of Tyne</th>\n",
       "      <td>1893.0</td>\n",
       "      <td>1850-1900</td>\n",
       "    </tr>\n",
       "    <tr>\n",
       "      <th>The St. Louis Rag</th>\n",
       "      <td>1903.0</td>\n",
       "      <td>1900-1950</td>\n",
       "    </tr>\n",
       "    <tr>\n",
       "      <th>The Harlem Rag</th>\n",
       "      <td>1899.0</td>\n",
       "      <td>1850-1900</td>\n",
       "    </tr>\n",
       "    <tr>\n",
       "      <th>Dymuniad</th>\n",
       "      <td>1835.0</td>\n",
       "      <td>1800-1850</td>\n",
       "    </tr>\n",
       "  </tbody>\n",
       "</table>\n",
       "<p>279 rows × 2 columns</p>\n",
       "</div>"
      ],
      "text/plain": [
       "                                     Datum kompozicije    Obdobje\n",
       "IME SKLADBE                                                      \n",
       "Rumores de la Caleta                            1887.0  1850-1900\n",
       "Prélude                                         1846.0  1800-1850\n",
       "Prélude Nr. 2                                   1846.0  1800-1850\n",
       "Toccatina                                       1872.0  1850-1900\n",
       "Ermuntre dich, mein schwacher Geist             1736.0  1700-1800\n",
       "...                                                ...        ...\n",
       "Oats and Beans                                  1893.0  1850-1900\n",
       "The Water of Tyne                               1893.0  1850-1900\n",
       "The St. Louis Rag                               1903.0  1900-1950\n",
       "The Harlem Rag                                  1899.0  1850-1900\n",
       "Dymuniad                                        1835.0  1800-1850\n",
       "\n",
       "[279 rows x 2 columns]"
      ]
     },
     "execution_count": 135,
     "metadata": {},
     "output_type": "execute_result"
    }
   ],
   "source": [
    "#Pretvorimo datume kompozicij v numerične vrednosti, kjer je to mogoče\n",
    "podtabela[\"Datum kompozicije\"] = pd.to_numeric(podtabela[\"Datum kompozicije\"], errors=\"coerce\")\n",
    "podtabela = podtabela.dropna()        #Odstranimo manjkajoče vrednosti \n",
    "\n",
    "\n",
    "#Določimo zdaj časovna obdobja\n",
    "leta = [1600, 1700, 1800, 1850, 1900, 1950, 2000, 2050]\n",
    "oznake = [\"1600-1700\", \"1700-1800\", \"1800-1850\", \"1850-1900\", \"1900-1950\", \"1950-2000\", \"2000-2050\"]\n",
    "\n",
    "#Ustvarimo no stolpec \"Obdobja\"\n",
    "podtabela[\"Obdobje\"] = pd.cut(podtabela[\"Datum kompozicije\"], bins=leta, labels=oznake)\n",
    "\n",
    "#Popravimo še napako (A value is trying to be set on a copy of a slice from a DataFrame.Try using .loc[row_indexer,col_indexer] = value instead)\n",
    "podtabela.loc[:, \"Obdobje\"] = pd.cut(podtabela[\"Datum kompozicije\"], bins=leta, labels=oznake)\n",
    "podtabela"
   ]
  },
  {
   "cell_type": "markdown",
   "id": "5a8fb822",
   "metadata": {},
   "source": [
    "Zgoraj je prikazana tabela z dodanim stolpcem \"Obdobje\", ki nam bo omogočal nadaljno analizo."
   ]
  },
  {
   "cell_type": "markdown",
   "id": "6ad20d80",
   "metadata": {},
   "source": [
    "Preštejmo sedaj, koliko skladb pripada v določeno obdobje in imena skladb v najpogostejšem obdobju."
   ]
  },
  {
   "cell_type": "code",
   "execution_count": 136,
   "id": "ebf584b1",
   "metadata": {},
   "outputs": [
    {
     "data": {
      "text/plain": [
       "Obdobje\n",
       "1800-1850    125\n",
       "1850-1900     68\n",
       "1700-1800     37\n",
       "1900-1950     35\n",
       "2000-2050     12\n",
       "1950-2000      2\n",
       "1600-1700      0\n",
       "Name: count, dtype: int64"
      ]
     },
     "execution_count": 136,
     "metadata": {},
     "output_type": "execute_result"
    }
   ],
   "source": [
    "pogostost_obdobij = podtabela[\"Obdobje\"].value_counts()\n",
    "pogostost_obdobij"
   ]
  },
  {
   "cell_type": "code",
   "execution_count": 137,
   "id": "e5de4511",
   "metadata": {},
   "outputs": [
    {
     "data": {
      "text/plain": [
       "'1800-1850'"
      ]
     },
     "execution_count": 137,
     "metadata": {},
     "output_type": "execute_result"
    }
   ],
   "source": [
    "obdobje_z_najvec_skladbami = pogostost_obdobij.idxmax()\n",
    "obdobje_z_najvec_skladbami"
   ]
  },
  {
   "cell_type": "markdown",
   "id": "34908263",
   "metadata": {},
   "source": [
    "Vidimo, da je največ skkladb narejenih med leti 1800 in 1850. Predstavimo to še grafično:"
   ]
  },
  {
   "cell_type": "code",
   "execution_count": 138,
   "id": "e672ccd3",
   "metadata": {},
   "outputs": [
    {
     "data": {
      "text/plain": [
       "Text(0.5, 1.0, 'Pogostost skladb v posameznem obdobju')"
      ]
     },
     "execution_count": 138,
     "metadata": {},
     "output_type": "execute_result"
    },
    {
     "data": {
      "image/png": "[encoded data removed]",
      "text/plain": [
       "<Figure size 1100x1100 with 1 Axes>"
      ]
     },
     "metadata": {},
     "output_type": "display_data"
    }
   ],
   "source": [
    "pogostost_obdobij = podtabela[\"Obdobje\"].value_counts()\n",
    "barve = ['#ffccdd', '#ff99cc', '#ff66b3', '#ff3399', '#ff007f', '#cc0066', '#99004d']\n",
    "\n",
    "plt.figure(figsize=(11, 11))\n",
    "plt.pie(pogostost_obdobij, labels=pogostost_obdobij.index, autopct=\"%10.0f%%\", colors=barve)\n",
    "plt.title(\"Pogostost skladb v posameznem obdobju\")\n"
   ]
  },
  {
   "cell_type": "markdown",
   "id": "e53b06cb",
   "metadata": {},
   "source": [
    "## Nekaj zanimivosti"
   ]
  },
  {
   "cell_type": "markdown",
   "id": "b7c3ef9e",
   "metadata": {},
   "source": [
    "Oglejmo si, katera črka se največrat pojavi v imenu skladbe."
   ]
  },
  {
   "cell_type": "code",
   "execution_count": 139,
   "id": "43ad8c7d",
   "metadata": {},
   "outputs": [
    {
     "data": {
      "text/plain": [
       "'e'"
      ]
     },
     "execution_count": 139,
     "metadata": {},
     "output_type": "execute_result"
    }
   ],
   "source": [
    "slovarcek = {}\n",
    "skladbe = podtabela.index\n",
    "vsa_imena =\";\".join(skladbe)\n",
    "vsa_imena = vsa_imena.lower()\n",
    "\n",
    "for crka in vsa_imena:\n",
    "    if crka.isalpha():\n",
    "        if crka in slovarcek:\n",
    "            slovarcek[crka] += 1  \n",
    "        else:\n",
    "            slovarcek[crka] = 1 \n",
    "\n",
    "\n",
    "najpogostejsa_crka = \"\"\n",
    "najvec_pojavitev = 0\n",
    "\n",
    "for crka, stevilo in slovarcek.items():\n",
    "    if stevilo > najvec_pojavitev:\n",
    "        najvec_pojavitev = stevilo\n",
    "        najpogostejsa_crka = crka\n",
    "\n",
    "najpogostejsa_crka"
   ]
  },
  {
   "cell_type": "markdown",
   "id": "3b509eb1",
   "metadata": {},
   "source": [
    "Poglejmo si zdaj v katerem jeziku so naslovi skladb."
   ]
  },
  {
   "cell_type": "code",
   "execution_count": 145,
   "id": "4bf67a5f",
   "metadata": {},
   "outputs": [
    {
     "data": {
      "text/plain": [
       "[('Vocalise № 1', 'it'),\n",
       " ('When the Swallows Homeward Fly (Agathe)', 'en'),\n",
       " ('Giselle - Pas de deux (1er Acte)', 'fr'),\n",
       " ('Minuit Chrétiens', 'fr'),\n",
       " ('The Blue Alsatian Mountains', 'en'),\n",
       " ('Rumores de la Caleta', 'es'),\n",
       " ('Prélude', 'fr'),\n",
       " ('Prélude Nr. 2', 'fr'),\n",
       " ('Toccatina', 'it'),\n",
       " ('Sonatine', 'en')]"
      ]
     },
     "execution_count": 145,
     "metadata": {},
     "output_type": "execute_result"
    }
   ],
   "source": [
    "\n",
    "def slovar_skladbe_in_jezika(tabela):\n",
    "    slovar = {}\n",
    "    \n",
    "    for naslov in tabela.index:   #ne tabela[\"IME SKLADBE\"], ker je to index_collll\n",
    "        if pd.isna(naslov):   #preverimo ce je NaN\n",
    "            continue\n",
    "        try:\n",
    "            jezik = detect(naslov)\n",
    "            slovar[naslov] = jezik\n",
    "        except Exception:     #ce dobimo v try bloku napako se izvede to  \n",
    "            slovar[naslov] = None\n",
    "    \n",
    "    return slovar\n",
    "    \n",
    "prvih_10 = []\n",
    "for indeks, (kljuc, vrednost) in enumerate(slovar_skladbe_in_jezika(tabela).items()):\n",
    "    if indeks < 10:\n",
    "        prvih_10.append((kljuc, vrednost))\n",
    "    \n",
    "prvih_10\n"
   ]
  },
  {
   "cell_type": "markdown",
   "id": "2cad90f5",
   "metadata": {},
   "source": [
    "Preverimo sedaj še pogostost jezika in predstavimo to grafično."
   ]
  },
  {
   "cell_type": "code",
   "execution_count": 141,
   "id": "da617738",
   "metadata": {},
   "outputs": [
    {
     "data": {
      "text/html": [
       "<div>\n",
       "<style scoped>\n",
       "    .dataframe tbody tr th:only-of-type {\n",
       "        vertical-align: middle;\n",
       "    }\n",
       "\n",
       "    .dataframe tbody tr th {\n",
       "        vertical-align: top;\n",
       "    }\n",
       "\n",
       "    .dataframe thead th {\n",
       "        text-align: right;\n",
       "    }\n",
       "</style>\n",
       "<table border=\"1\" class=\"dataframe\">\n",
       "  <thead>\n",
       "    <tr style=\"text-align: right;\">\n",
       "      <th></th>\n",
       "      <th>Jezik</th>\n",
       "    </tr>\n",
       "    <tr>\n",
       "      <th>IME SKLADBE</th>\n",
       "      <th></th>\n",
       "    </tr>\n",
       "  </thead>\n",
       "  <tbody>\n",
       "    <tr>\n",
       "      <th>Vocalise № 1</th>\n",
       "      <td>it</td>\n",
       "    </tr>\n",
       "    <tr>\n",
       "      <th>When the Swallows Homeward Fly (Agathe)</th>\n",
       "      <td>en</td>\n",
       "    </tr>\n",
       "    <tr>\n",
       "      <th>Giselle - Pas de deux (1er Acte)</th>\n",
       "      <td>fr</td>\n",
       "    </tr>\n",
       "    <tr>\n",
       "      <th>Minuit Chrétiens</th>\n",
       "      <td>fr</td>\n",
       "    </tr>\n",
       "    <tr>\n",
       "      <th>The Blue Alsatian Mountains</th>\n",
       "      <td>en</td>\n",
       "    </tr>\n",
       "    <tr>\n",
       "      <th>...</th>\n",
       "      <td>...</td>\n",
       "    </tr>\n",
       "    <tr>\n",
       "      <th>La Traviata - N18 Scena finale</th>\n",
       "      <td>it</td>\n",
       "    </tr>\n",
       "    <tr>\n",
       "      <th>La Traviata - Preludio</th>\n",
       "      <td>it</td>\n",
       "    </tr>\n",
       "    <tr>\n",
       "      <th>Rondo</th>\n",
       "      <td>pt</td>\n",
       "    </tr>\n",
       "    <tr>\n",
       "      <th>Dymuniad</th>\n",
       "      <td>cy</td>\n",
       "    </tr>\n",
       "    <tr>\n",
       "      <th>Les Lanciers</th>\n",
       "      <td>fr</td>\n",
       "    </tr>\n",
       "  </tbody>\n",
       "</table>\n",
       "<p>788 rows × 1 columns</p>\n",
       "</div>"
      ],
      "text/plain": [
       "                                        Jezik\n",
       "IME SKLADBE                                  \n",
       "Vocalise № 1                               it\n",
       "When the Swallows Homeward Fly (Agathe)    en\n",
       "Giselle - Pas de deux (1er Acte)           fr\n",
       "Minuit Chrétiens                           fr\n",
       "The Blue Alsatian Mountains                en\n",
       "...                                       ...\n",
       "La Traviata - N18 Scena finale             it\n",
       "La Traviata - Preludio                     it\n",
       "Rondo                                      pt\n",
       "Dymuniad                                   cy\n",
       "Les Lanciers                               fr\n",
       "\n",
       "[788 rows x 1 columns]"
      ]
     },
     "execution_count": 141,
     "metadata": {},
     "output_type": "execute_result"
    }
   ],
   "source": [
    "def zaznaj_jezik(tabela):\n",
    "    jeziki = []\n",
    "    for naslov in tabela.index:   #ne tabela[\"IME SKLADBE\"], ker je to index_collll\n",
    "        if pd.isna(naslov):   #preverimo ce je NaN\n",
    "            continue\n",
    "        try:\n",
    "            jezik =  detect(naslov)\n",
    "            jeziki.append(jezik)\n",
    "        except Exception:     #ce dobimo v try bloku napako se izvede to  \n",
    "            jeziki.append(None)\n",
    "    \n",
    "    return jeziki\n",
    "            \n",
    "tabela[\"Jezik\"] = zaznaj_jezik(tabela)\n",
    "tabela[[\"Jezik\"]]\n"
   ]
  },
  {
   "cell_type": "code",
   "execution_count": 142,
   "id": "e1936fc7",
   "metadata": {},
   "outputs": [
    {
     "data": {
      "image/png": "[encoded data removed]",
      "text/plain": [
       "<Figure size 640x480 with 1 Axes>"
      ]
     },
     "metadata": {},
     "output_type": "display_data"
    }
   ],
   "source": [
    "pogostost_jezika = tabela[\"Jezik\"].value_counts()\n",
    "\n",
    "pogostost_jezika.plot(kind=\"bar\", color=\"red\")\n",
    "plt.title(\"Pogostost jezika\")\n",
    "plt.xlabel(\"Jezik\")\n",
    "plt.ylabel(\"Število skladb\")\n",
    "plt.xticks(rotation=45)\n",
    "plt.show()"
   ]
  },
  {
   "cell_type": "markdown",
   "id": "9b72d160",
   "metadata": {},
   "source": [
    "Vidimo, da je najbolj pogost angleški jezik, takoj za njim pa je nemški."
   ]
  }
 ],
 "metadata": {
  "kernelspec": {
   "display_name": "Python 3 (ipykernel)",
   "language": "python",
   "name": "python3"
  },
  "language_info": {
   "codemirror_mode": {
    "name": "ipython",
    "version": 3
   },
   "file_extension": ".py",
   "mimetype": "text/x-python",
   "name": "python",
   "nbconvert_exporter": "python",
   "pygments_lexer": "ipython3",
   "version": "3.12.6"
  }
 },
 "nbformat": 4,
 "nbformat_minor": 5
}
